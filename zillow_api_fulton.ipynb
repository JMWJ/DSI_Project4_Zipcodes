{
 "cells": [
  {
   "cell_type": "code",
   "execution_count": 54,
   "metadata": {
    "scrolled": true
   },
   "outputs": [],
   "source": [
    "# install for API\n",
    "# ! pip install arcgis\n",
    "# ! pip install pyzillow\n",
    "# ! pip install python-zillow\n",
    "# ! pip install progressbar2"
   ]
  },
  {
   "cell_type": "code",
   "execution_count": 1,
   "metadata": {},
   "outputs": [],
   "source": [
    "import numpy as np\n",
    "import pandas as pd\n",
    "import requests\n",
    "import pandas as pd\n",
    "from bs4 import BeautifulSoup\n",
    "import re\n",
    "import zillow\n",
    "import re\n",
    "import numpy as np\n",
    "from scipy import stats\n",
    "import matplotlib.pyplot as plt\n",
    "from zillow import ValuationApi\n",
    "pd.options.display.max_rows = 700\\\n",
    "\n",
    "import arcgis\n",
    "from arcgis.gis import GIS\n",
    "gis = GIS()"
   ]
  },
  {
   "cell_type": "code",
   "execution_count": 2,
   "metadata": {},
   "outputs": [],
   "source": [
    "from zillow import ValuationApi\n",
    "\n",
    "#insert your API key from zillow here\n",
    "zid = 'X1-ZWz1gujpzjaayz_13bwv'\n",
    "\n",
    "api = zillow.ValuationApi()"
   ]
  },
  {
   "cell_type": "code",
   "execution_count": 10,
   "metadata": {},
   "outputs": [],
   "source": [
    "df = pd.read_csv('./dataset/openaddr-collected-us_south/us/ga/fulton.csv', na_values='NaN')"
   ]
  },
  {
   "cell_type": "markdown",
   "metadata": {},
   "source": [
    "### Cleaning"
   ]
  },
  {
   "cell_type": "code",
   "execution_count": 29,
   "metadata": {},
   "outputs": [
    {
     "data": {
      "text/plain": [
       "index         int64\n",
       "LON         float64\n",
       "LAT         float64\n",
       "NUMBER       object\n",
       "STREET       object\n",
       "CITY         object\n",
       "POSTCODE      int64\n",
       "COUNTY       object\n",
       "dtype: object"
      ]
     },
     "execution_count": 29,
     "metadata": {},
     "output_type": "execute_result"
    }
   ],
   "source": [
    "df.dtypes\n",
    "#df.index.astype(int)"
   ]
  },
  {
   "cell_type": "code",
   "execution_count": 12,
   "metadata": {
    "scrolled": true
   },
   "outputs": [
    {
     "data": {
      "text/html": [
       "<div>\n",
       "<style scoped>\n",
       "    .dataframe tbody tr th:only-of-type {\n",
       "        vertical-align: middle;\n",
       "    }\n",
       "\n",
       "    .dataframe tbody tr th {\n",
       "        vertical-align: top;\n",
       "    }\n",
       "\n",
       "    .dataframe thead th {\n",
       "        text-align: right;\n",
       "    }\n",
       "</style>\n",
       "<table border=\"1\" class=\"dataframe\">\n",
       "  <thead>\n",
       "    <tr style=\"text-align: right;\">\n",
       "      <th></th>\n",
       "      <th>index</th>\n",
       "      <th>LON</th>\n",
       "      <th>LAT</th>\n",
       "      <th>NUMBER</th>\n",
       "      <th>STREET</th>\n",
       "      <th>CITY</th>\n",
       "      <th>POSTCODE</th>\n",
       "      <th>COUNTY</th>\n",
       "    </tr>\n",
       "  </thead>\n",
       "  <tbody>\n",
       "    <tr>\n",
       "      <th>0</th>\n",
       "      <td>0</td>\n",
       "      <td>-84.383319</td>\n",
       "      <td>33.942985</td>\n",
       "      <td>370</td>\n",
       "      <td>Stone Mill Trail  NE</td>\n",
       "      <td>Sandy Springs</td>\n",
       "      <td>30328</td>\n",
       "      <td>Fulton</td>\n",
       "    </tr>\n",
       "    <tr>\n",
       "      <th>1</th>\n",
       "      <td>1</td>\n",
       "      <td>-84.631323</td>\n",
       "      <td>33.635594</td>\n",
       "      <td>4382</td>\n",
       "      <td>Alysheba Drive</td>\n",
       "      <td>South Fulton</td>\n",
       "      <td>30213</td>\n",
       "      <td>Fulton</td>\n",
       "    </tr>\n",
       "    <tr>\n",
       "      <th>2</th>\n",
       "      <td>2</td>\n",
       "      <td>-84.363148</td>\n",
       "      <td>33.727186</td>\n",
       "      <td>747</td>\n",
       "      <td>East  Confederate Avenue  SE</td>\n",
       "      <td>Atlanta</td>\n",
       "      <td>30312</td>\n",
       "      <td>Fulton</td>\n",
       "    </tr>\n",
       "    <tr>\n",
       "      <th>3</th>\n",
       "      <td>3</td>\n",
       "      <td>-84.356985</td>\n",
       "      <td>33.854599</td>\n",
       "      <td>3648</td>\n",
       "      <td>Peachtree Road  NE</td>\n",
       "      <td>Atlanta</td>\n",
       "      <td>30319</td>\n",
       "      <td>Fulton</td>\n",
       "    </tr>\n",
       "    <tr>\n",
       "      <th>4</th>\n",
       "      <td>4</td>\n",
       "      <td>-84.326463</td>\n",
       "      <td>34.063816</td>\n",
       "      <td>425</td>\n",
       "      <td>Hembree Forest Circle</td>\n",
       "      <td>Roswell</td>\n",
       "      <td>30076</td>\n",
       "      <td>Fulton</td>\n",
       "    </tr>\n",
       "  </tbody>\n",
       "</table>\n",
       "</div>"
      ],
      "text/plain": [
       "   index        LON        LAT NUMBER                        STREET  \\\n",
       "0      0 -84.383319  33.942985    370          Stone Mill Trail  NE   \n",
       "1      1 -84.631323  33.635594   4382                Alysheba Drive   \n",
       "2      2 -84.363148  33.727186    747  East  Confederate Avenue  SE   \n",
       "3      3 -84.356985  33.854599   3648            Peachtree Road  NE   \n",
       "4      4 -84.326463  34.063816    425         Hembree Forest Circle   \n",
       "\n",
       "            CITY POSTCODE  COUNTY  \n",
       "0  Sandy Springs    30328  Fulton  \n",
       "1   South Fulton    30213  Fulton  \n",
       "2        Atlanta    30312  Fulton  \n",
       "3        Atlanta    30319  Fulton  \n",
       "4        Roswell    30076  Fulton  "
      ]
     },
     "execution_count": 12,
     "metadata": {},
     "output_type": "execute_result"
    }
   ],
   "source": [
    "#df.drop(columns=['DISTRICT','REGION','ID','HASH','UNIT'], inplace = True)\n",
    "#df['COUNTY'] = 'Fulton'\n",
    "#df.dropna(inplace = True)\n",
    "#df.reset_index(inplace=True)\n",
    "df.head()"
   ]
  },
  {
   "cell_type": "code",
   "execution_count": 28,
   "metadata": {},
   "outputs": [],
   "source": [
    "#clean up all the zips and city before i can convert to int.\n",
    "df['POSTCODE'] = df['POSTCODE'].astype(int)"
   ]
  },
  {
   "cell_type": "code",
   "execution_count": 53,
   "metadata": {
    "scrolled": true
   },
   "outputs": [
    {
     "data": {
      "text/plain": [
       "index       0\n",
       "LON         0\n",
       "LAT         0\n",
       "NUMBER      0\n",
       "STREET      0\n",
       "CITY        0\n",
       "POSTCODE    0\n",
       "COUNTY      0\n",
       "dtype: int64"
      ]
     },
     "execution_count": 53,
     "metadata": {},
     "output_type": "execute_result"
    }
   ],
   "source": [
    "#this finds what is missing a zip\n",
    "#df[df['POSTCODE'] == ' ']\n",
    "(df == ' ').sum()"
   ]
  },
  {
   "cell_type": "code",
   "execution_count": 14,
   "metadata": {},
   "outputs": [],
   "source": [
    "#Brookdale rd\n",
    "df[df['STREET'] == 'Brookdale Road']\n",
    "df.loc[[384939,384940,384941], 'POSTCODE'] = 30022"
   ]
  },
  {
   "cell_type": "code",
   "execution_count": 16,
   "metadata": {},
   "outputs": [],
   "source": [
    "# dropped all the hannaford addresses since i couldnt find the zip\n",
    "df[df['STREET'] == 'Hannaford Walk']\n",
    "df.drop(df.index[[387272,387273,387274,387275,387276,387277,387278,387279]], inplace=True)"
   ]
  },
  {
   "cell_type": "code",
   "execution_count": 20,
   "metadata": {},
   "outputs": [],
   "source": [
    "# for creekview circle filled in zips and change city to south fulton\n",
    "df.loc[range(387284,387312), 'POSTCODE'] = 30349\n",
    "df.loc[range(387284,387312), 'CITY'] = 'South Fulton'"
   ]
  },
  {
   "cell_type": "code",
   "execution_count": null,
   "metadata": {},
   "outputs": [],
   "source": []
  },
  {
   "cell_type": "code",
   "execution_count": 22,
   "metadata": {},
   "outputs": [],
   "source": [
    "#replacing all empty zips  for hannaford lane\n",
    "df.loc[[387312,387313], 'POSTCODE'] = 30097"
   ]
  },
  {
   "cell_type": "code",
   "execution_count": 24,
   "metadata": {},
   "outputs": [],
   "source": [
    "#hospital parkway\n",
    "df.loc[394694, 'POSTCODE'] = 30097"
   ]
  },
  {
   "cell_type": "code",
   "execution_count": 26,
   "metadata": {},
   "outputs": [],
   "source": [
    "#for McGinnis\n",
    "df.loc[range(387314,387331), 'POSTCODE'] = 30024"
   ]
  },
  {
   "cell_type": "code",
   "execution_count": 15,
   "metadata": {},
   "outputs": [],
   "source": [
    "df.loc[406946, 'POSTCODE'] = 30097"
   ]
  },
  {
   "cell_type": "code",
   "execution_count": null,
   "metadata": {
    "scrolled": true
   },
   "outputs": [],
   "source": []
  },
  {
   "cell_type": "markdown",
   "metadata": {},
   "source": [
    "### Zillow estimator\n",
    "\n",
    "This progress bar is a personal choice and not needed to run the function, it does allow for some clear understanding at which stage your loop is at and the ETA for completion. It comes with its own share of issues though, please use with caution."
   ]
  },
  {
   "cell_type": "code",
   "execution_count": 45,
   "metadata": {},
   "outputs": [],
   "source": [
    "from progressbar import ProgressBar\n",
    "bar = ProgressBar()"
   ]
  },
  {
   "cell_type": "code",
   "execution_count": 46,
   "metadata": {},
   "outputs": [],
   "source": [
    "def Zestimate(zipcode):\n",
    "    zestimate_list = []\n",
    "    zipdf = df[df['POSTCODE'].isin(zipcode)]\n",
    "\n",
    "\n",
    "    for i in bar(range(len(zipdf))):\n",
    "        try:\n",
    "            address = str(zipdf['NUMBER'][i]+' '+zipdf['STREET'][i]+'.,'+zipdf['CITY'][i]+', FL')\n",
    "            postal_code = str(int(zipdf['POSTCODE'][i]))\n",
    "            data = api.GetSearchResults(zid,address,postal_code)\n",
    "            if data != None:\n",
    "                zestimate_list.append(data.zestimate.amount)\n",
    "            else:\n",
    "                pass\n",
    "        except:\n",
    "            pass\n",
    "    #Worth noting that many of the addresses do not have corresponding values in the zillow database.\n",
    "    #The below print output shows how many the API missed.\n",
    "    print('Missing Values:',len(zipdf)-len(zestimate_list),'Gathered:',\"{0:.2f}\".format((len(zestimate_list))/len(zipdf)*100),'%')\n",
    "    \n",
    "    # This is the print output, change the print out to your preference.\n",
    "    zestimate_list = [x for x in zestimate_list if x is not None]\n",
    "    zestimate_list = np.array(zestimate_list)\n",
    "    statistics = stats.describe(zestimate_list)\n",
    "    std = np.std(zestimate_list)\n",
    "    median = np.median(zestimate_list)\n",
    "    print('    ==========================================')\n",
    "    print('             For Area', str(zipcode) )\n",
    "    print('    ==========================================')\n",
    "    print()\n",
    "    print('     |  Values  |:',statistics[0])\n",
    "    print('     | Minimum  |:', statistics[1][0])\n",
    "    print('     | Maximum  |:', statistics[1][1])\n",
    "    print('     |  Median  |:', median)\n",
    "    print('     |   Mean   |:', float(\"{0:.2f}\".format(statistics[2])))\n",
    "    print('     |   Std    |:', float(\"{0:.2f}\".format(std)))\n",
    "    print('     | Skewness |:', float(\"{0:.2f}\".format(statistics[4])))\n",
    "    print('     | Kurtosis |:', float(\"{0:.2f}\".format(statistics[5])))\n",
    "    plt.hist(zestimate_list, edgecolor = 'black');\n",
    "    plt.xlabel('House Value')\n",
    "    plt.ylabel('Frequency')\n",
    "    plt.xticks(rotation='vertical')\n",
    "    return"
   ]
  },
  {
   "cell_type": "code",
   "execution_count": 47,
   "metadata": {},
   "outputs": [
    {
     "name": "stderr",
     "output_type": "stream",
     "text": [
      "100% (41213 of 41213) |##################| Elapsed Time: 0:22:59 Time:  0:22:59\n"
     ]
    },
    {
     "name": "stdout",
     "output_type": "stream",
     "text": [
      "Missing Values: 41109 Gathered: 0.25 %\n",
      "    ==========================================\n",
      "             For Area [30310, 30311, 30314]\n",
      "    ==========================================\n",
      "\n",
      "     |  Values  |: 90\n",
      "     | Minimum  |: 54827\n",
      "     | Maximum  |: 509531\n",
      "     |  Median  |: 127064.0\n",
      "     |   Mean   |: 133669.21\n",
      "     |   Std    |: 59097.45\n",
      "     | Skewness |: 3.32\n",
      "     | Kurtosis |: 17.56\n"
     ]
    },
    {
     "data": {
      "image/png": "[encoded data removed]",
      "text/plain": [
       "<Figure size 432x288 with 1 Axes>"
      ]
     },
     "metadata": {
      "needs_background": "light"
     },
     "output_type": "display_data"
    }
   ],
   "source": [
    " a = Zestimate([30310,30311, 30314])"
   ]
  },
  {
   "cell_type": "code",
   "execution_count": 52,
   "metadata": {},
   "outputs": [
    {
     "data": {
      "text/plain": [
       "<Figure size 432x288 with 0 Axes>"
      ]
     },
     "metadata": {},
     "output_type": "display_data"
    }
   ],
   "source": [
    "plt.savefig('a.jpeg')"
   ]
  },
  {
   "cell_type": "code",
   "execution_count": null,
   "metadata": {},
   "outputs": [],
   "source": []
  },
  {
   "cell_type": "code",
   "execution_count": 46,
   "metadata": {},
   "outputs": [
    {
     "data": {
      "text/plain": [
       "DescribeResult(nobs=397236, minmax=(30002, 30363), mean=30239.07728151527, variance=16534.84027473602, skewness=-0.9437055435702032, kurtosis=-0.9072491878964337)"
      ]
     },
     "execution_count": 46,
     "metadata": {},
     "output_type": "execute_result"
    }
   ],
   "source": [
    "stats.describe(df['POSTCODE'])"
   ]
  },
  {
   "cell_type": "code",
   "execution_count": 116,
   "metadata": {},
   "outputs": [],
   "source": [
    "#zips in fulton\n",
    "(30328, 30213, 30312, 30319, 30076, 30305, 30004, 30311, 30337,\n",
    "30354, 30309, 30331, 30349, 30268, 30344, 30318, 30327, 30350,\n",
    "30326, 30291, 30314, 30306, 30075, 30324, 30310, 30307, 30316,\n",
    "30308, 30315, 30296, 30303, 30313, 30336, 30342, 30363, 30022,\n",
    "30317, 30338, 30009, 30005, 30339, 30320, 30334, 30092, 30304,\n",
    "30024, 30097, 30097, 30005, 30022, 30002, 30024, 30027, 30076, 30098)"
   ]
  },
  {
   "cell_type": "code",
   "execution_count": 32,
   "metadata": {},
   "outputs": [],
   "source": [
    "atl =(30328, 30213, 30312, 30319, 30076, 30305, 30004, 30311, 30337)"
   ]
  },
  {
   "cell_type": "code",
   "execution_count": 33,
   "metadata": {},
   "outputs": [
    {
     "data": {
      "text/plain": [
       "array(['Sandy Springs', 'South Fulton', 'Atlanta', 'Roswell', 'Milton',\n",
       "       'East Point', 'Palmetto', 'Union City', 'College Park',\n",
       "       'Hapeville', 'Fairburn', 'Fulton County', 'Mountain Park',\n",
       "       'Chattahoochee Hills', 'Alpharetta', 'Fayette County',\n",
       "       'Johns Creek'], dtype=object)"
      ]
     },
     "execution_count": 33,
     "metadata": {},
     "output_type": "execute_result"
    }
   ],
   "source": [
    "df.CITY.unique()"
   ]
  },
  {
   "cell_type": "code",
   "execution_count": null,
   "metadata": {},
   "outputs": [],
   "source": [
    "30024,30009,30114"
   ]
  }
 ],
 "metadata": {
  "kernelspec": {
   "display_name": "Python 3",
   "language": "python",
   "name": "python3"
  },
  "language_info": {
   "codemirror_mode": {
    "name": "ipython",
    "version": 3
   },
   "file_extension": ".py",
   "mimetype": "text/x-python",
   "name": "python",
   "nbconvert_exporter": "python",
   "pygments_lexer": "ipython3",
   "version": "3.6.6"
  }
 },
 "nbformat": 4,
 "nbformat_minor": 2
}
