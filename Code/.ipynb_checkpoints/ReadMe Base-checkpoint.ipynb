{
 "cells": [
  {
   "cell_type": "markdown",
   "metadata": {},
   "source": [
    "# Project 4 - The Client Project \n",
    "\n",
    "---\n",
    "\n",
    "The ***objective*** of the client project is to ***use zipcodes to proxy home values and loss in event of disaster***. Our project consists of building a tool to return housing and population metrics in a given zipcode.  The user will feed the code with a comma delimited list of affected areas (zip codes, can be int or str format) as input, and retrieve the current property values.  \n",
    "\n",
    "## Executive Summary\n",
    "---\n",
    "\n",
    "\n",
    "## Interesting Packages Used\n",
    "---\n",
    "For our project we mainly leveraged [folium](https://pypi.org/project/folium/) and [uszipcode](https://pypi.org/project/uszipcode/) to create the tool and to pull the additional demographic information based on zipcode.  Folium creates a rendering of a map based on lat/long values and then given a zipcode it will return a circle that you can hover over with a mouse to display demographic information.\n",
    "\n",
    "\n",
    "## Data Information\n",
    "---\n",
    "For the home value data, we used the [Zillow Research](https://www.zillow.com/research/data/) page to download flat files of ***Median Home Values by Top and Bottom Tiers***.  The tier system in Zillow is divided into thirds given a ***geography*** parameter that allowed for us to pull data on the zipcode level.\n",
    "\n",
    "Additionally, the Python package [uszipcode](https://pypi.org/project/uszipcode/) mentioned above has datasets within the package that returned high level metrics give a zip.  We used that data to create a dataframe that gets passed into the our display tool.\n",
    "\n",
    "### Data Dictionary of Data Set Used for Tool\n",
    "\n",
    "\n",
    "## How to Navigate Files and Folders\n",
    "---\n",
    "1. ***Code*** Folder\n",
    "2. ***Data*** Folder\n",
    "3. ***Raw_data_files*** Folder\n",
    "4. ***zipcode*** Folder\n"
   ]
  },
  {
   "cell_type": "code",
   "execution_count": null,
   "metadata": {},
   "outputs": [],
   "source": []
  }
 ],
 "metadata": {
  "kernelspec": {
   "display_name": "Python 3",
   "language": "python",
   "name": "python3"
  },
  "language_info": {
   "codemirror_mode": {
    "name": "ipython",
    "version": 3
   },
   "file_extension": ".py",
   "mimetype": "text/x-python",
   "name": "python",
   "nbconvert_exporter": "python",
   "pygments_lexer": "ipython3",
   "version": "3.6.4"
  }
 },
 "nbformat": 4,
 "nbformat_minor": 2
}
